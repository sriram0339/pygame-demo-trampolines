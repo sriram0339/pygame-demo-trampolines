{
 "cells": [
  {
   "cell_type": "markdown",
   "id": "3d29b608-2a7d-4cc1-96b0-2cb4f0d69a0c",
   "metadata": {},
   "source": [
    "## Simple Example\n",
    "\n",
    "  - Create two lists of `N` random numbers: `lst1` and `lst2`\n",
    "  - Multiply each element `lst1[i]` to `lst2[i]` and place result in a new list `lst3`.\n",
    "  - Remove all elements $<= 1.0$ from lst3 and put the result into lst4\n",
    "  - Return the sum of square of all elements of `lst4`.\n"
   ]
  },
  {
   "cell_type": "code",
   "execution_count": 1,
   "id": "c993bc3c-e5ce-4a6c-a43b-f4158d23931d",
   "metadata": {},
   "outputs": [],
   "source": [
    "import random \n",
    "import timeit\n",
    "\n",
    "\n",
    "def example1_imperative(N):\n",
    "    lst1 = []\n",
    "    lst2 = [] \n",
    "    lst3 = [] \n",
    "    lst4 = []\n",
    "    sum_sq = 0.0\n",
    "    for i in range(N):\n",
    "        elt1 = random.uniform(-1.0, 1.0)\n",
    "        lst1.append(elt1)\n",
    "        elt2 = random.uniform(-1.0, 1.0)\n",
    "        lst2.append(elt2)\n",
    "        lst3.append(elt1 * elt2)\n",
    "        if elt1 * elt2 > 1.0:\n",
    "            lst4.append(elt4)\n",
    "            sum_sq = sum_sq + elt4**2\n",
    "    # .. further calculations with lst1,.., lst4\n",
    "    return sum_sq \n"
   ]
  },
  {
   "cell_type": "markdown",
   "id": "0fdca107-991a-4740-9ac4-3863d3e19169",
   "metadata": {},
   "source": [
    "## Simple Example: Made Functional "
   ]
  },
  {
   "cell_type": "code",
   "execution_count": 2,
   "id": "6c5c5075-c819-4de8-b7d6-2495057cf620",
   "metadata": {},
   "outputs": [],
   "source": [
    "def example1_functional(N):\n",
    "    lst1 = [ random.uniform(-1.0, 1.0) for _ in range(N) ]\n",
    "    lst2 = [ random.uniform(-1.0, 1.0) for _ in range(N) ]\n",
    "    lst3 = [ elt1 + elt2 for (elt1, elt2) in zip(lst1, lst2) ]\n",
    "    lst4 = [ e for e in lst3 if e > 1.0 ]\n",
    "    return sum([x**2 for x in lst4]) "
   ]
  },
  {
   "cell_type": "markdown",
   "id": "344e7658-20b2-46b1-a0af-c57c6f215856",
   "metadata": {},
   "source": [
    "## Functional Programming \n",
    "\n",
    "A technique for expressing computations, wherein:\n",
    "  - Functions are first class objects that can be created and passed around.\n",
    "  - Side-effects are avoided.\n",
    "  - Avoid loops and mutations of data-structures.\n",
    "  - ...\n"
   ]
  },
  {
   "cell_type": "code",
   "execution_count": 4,
   "id": "5da7ca47-2e69-4cb0-8792-cce370da38f3",
   "metadata": {},
   "outputs": [],
   "source": [
    "def factorial(n):\n",
    "    f = 1\n",
    "    for i in range(2, n+1):\n",
    "        f = f * i\n",
    "    return f \n"
   ]
  },
  {
   "cell_type": "code",
   "execution_count": 5,
   "id": "b546e600-ee1b-4990-bc2a-48988b662fa7",
   "metadata": {},
   "outputs": [],
   "source": [
    "def factorial_rec(n):\n",
    "    if n <= 1:\n",
    "        return 1\n",
    "    else:\n",
    "        return n * factorial_rec(n-1)"
   ]
  },
  {
   "cell_type": "markdown",
   "id": "f5430aa2-d4f0-4392-b2cf-be643ce9e7e9",
   "metadata": {},
   "source": [
    "## Recursion versus Loops\n",
    "\n",
    "Functional programming tries to replace loops with recursion.\n",
    "\n",
    "**Problem:** Recursion is expensive!\n",
    "\n",
    "\n",
    "**Lookup:** Tail vs. non-tail recursion.\n"
   ]
  },
  {
   "cell_type": "code",
   "execution_count": 6,
   "id": "b4bb236f-eafd-4935-997c-d9b3a2871af3",
   "metadata": {},
   "outputs": [],
   "source": [
    "def factorial_tail(n, res=1):\n",
    "    if n <= 1:\n",
    "        return res\n",
    "    else:\n",
    "        return factorial_tail(n-1, res*n)"
   ]
  },
  {
   "cell_type": "markdown",
   "id": "86b48c9c-4a0f-40df-9d50-7f0f72372c97",
   "metadata": {},
   "source": [
    "## Lambda\n",
    "\n",
    "- A `lambda` in python is a function.\n",
    "- It can be passed to a function.\n",
    "- It can be created from inside a function and passed outside."
   ]
  },
  {
   "cell_type": "code",
   "execution_count": 14,
   "id": "67c949cd-dcd6-4c62-99b3-f57801674129",
   "metadata": {},
   "outputs": [
    {
     "name": "stdout",
     "output_type": "stream",
     "text": [
      "20\n",
      "0\n"
     ]
    }
   ],
   "source": [
    "lambda1 = lambda x,y: x + y\n",
    "\n",
    "print(lambda1(10, 10))\n",
    "\n",
    "lambda2 = lambda z: 10 + z \n",
    "\n",
    "print(lambda2(-10))"
   ]
  },
  {
   "cell_type": "code",
   "execution_count": 16,
   "id": "80492e77-1dde-4b02-bdca-8c0dd1737c7d",
   "metadata": {},
   "outputs": [],
   "source": [
    "def map_fun(func, lst):\n",
    "    return [func(elt) for elt in lst] \n"
   ]
  },
  {
   "cell_type": "code",
   "execution_count": 17,
   "id": "ec16dcea-10dc-4f06-88b5-38c09737567e",
   "metadata": {},
   "outputs": [
    {
     "data": {
      "text/plain": [
       "[10, 11, 12, 13, 14, 15, 16, 17, 18, 19]"
      ]
     },
     "execution_count": 17,
     "metadata": {},
     "output_type": "execute_result"
    }
   ],
   "source": [
    "map_fun(lambda2, list(range(10)))"
   ]
  },
  {
   "cell_type": "code",
   "execution_count": 18,
   "id": "12ef5070-007e-4198-b62b-7503d5cbb6ad",
   "metadata": {},
   "outputs": [],
   "source": [
    "def create_a_lambda(j):\n",
    "    return lambda x : j * x"
   ]
  },
  {
   "cell_type": "code",
   "execution_count": 22,
   "id": "6377d5da-75bb-4b2f-bc8b-cff80f1e08cc",
   "metadata": {},
   "outputs": [
    {
     "name": "stdout",
     "output_type": "stream",
     "text": [
      "100\n",
      "-100\n"
     ]
    }
   ],
   "source": [
    "lambda3  = create_a_lambda(10)\n",
    "print(lambda3(10))\n",
    "print(lambda3(-10))"
   ]
  },
  {
   "cell_type": "markdown",
   "id": "ed7b789e-0d9b-40c0-ac31-3ae594e5d521",
   "metadata": {},
   "source": [
    "## Basic FP Concepts\n",
    "\n",
    " - Recursion, Tail Recursion, Replacing Loops with Recursion.\n",
    " - Lambdas (related notions: closure)\n",
    " - Functors: map, reduce, filter.\n",
    " - Inductive Data Types (if your language supports them).\n",
    " - Iterators: range, zip, ..."
   ]
  },
  {
   "cell_type": "markdown",
   "id": "9f40bfb7-0039-4770-b228-763a5e13de4d",
   "metadata": {},
   "source": [
    "## Advanced FP Concepts\n",
    "\n",
    " - Monads\n",
    " - Lazy Programming\n",
    " - Continuations\n",
    " - Algebraic Effects \n",
    " - Streams\n",
    " - Combinators\n",
    " - ... \n"
   ]
  },
  {
   "cell_type": "markdown",
   "id": "6dfe952c-944b-42e3-94c4-cd812e731ce4",
   "metadata": {},
   "source": [
    "## Programming with Continuations\n",
    "\n",
    "What is a continuation?"
   ]
  },
  {
   "cell_type": "code",
   "execution_count": 23,
   "id": "2d723a84-6889-43ab-a06f-ca4d77c79b39",
   "metadata": {},
   "outputs": [],
   "source": [
    "def factorial(n):\n",
    "    if n <= 1:\n",
    "        return 1\n",
    "    else:\n",
    "        # return n * factorial(n-1)\n",
    "        v = factorial(n-1) \n",
    "        return v * n"
   ]
  },
  {
   "cell_type": "markdown",
   "id": "41192278-49f4-4aba-898d-f1b491087e77",
   "metadata": {},
   "source": [
    "**Continuation:** What should be done with the result.\n",
    "\n",
    " - If we called a function `factorial(n)` it returns `n!`.\n",
    "\n",
    "In the _continuation passing style_, every function has an extra argument called a _continuation_.\n",
    "  - The continuation is a lambda.\n",
    "  - The function itself passes its result to the continuation.\n"
   ]
  },
  {
   "cell_type": "code",
   "execution_count": 24,
   "id": "11e1e9f0-25b4-44fe-b559-fe9a095c2a1e",
   "metadata": {},
   "outputs": [],
   "source": [
    "def factorial_k(n, k):\n",
    "    if n <= 1:\n",
    "        return k(1)\n",
    "    else:\n",
    "        return factorial_k( n-1, lambda v: k(n*v) )"
   ]
  },
  {
   "cell_type": "code",
   "execution_count": 26,
   "id": "e05bdc08-27ef-4da1-abad-bc480db52a9f",
   "metadata": {},
   "outputs": [
    {
     "name": "stdout",
     "output_type": "stream",
     "text": [
      "Result: 3628800\n"
     ]
    }
   ],
   "source": [
    "factorial_k(10, lambda x: print(f'Result: {x}'))"
   ]
  },
  {
   "cell_type": "markdown",
   "id": "86b24b11-55f6-4fc4-a88d-211784c4c78f",
   "metadata": {},
   "source": [
    "## Factorial with Continuations \n",
    "\n",
    "1. What is the meaning of this lambda?\n",
    "\n",
    "` lambda v: k(n*v) ` \n",
    "\n",
    "2. What is the meaning of this recursive call?\n",
    "\n",
    "` factorial_k( n-1, lambda v: k(n*v) ) `\n",
    "\n",
    "Let's say it out loud in english.\n",
    "\n",
    "**Interesting Note:** Any recursion can be converted into a tail recursion using continuations."
   ]
  },
  {
   "cell_type": "code",
   "execution_count": 27,
   "id": "7772d837-6555-40c8-8716-b931f7119983",
   "metadata": {},
   "outputs": [],
   "source": [
    "def collatz(n):\n",
    "    if n <= 1:\n",
    "        return 1\n",
    "    elif n %2 == 0:\n",
    "        return 1 + collatz(n//2)\n",
    "    else:\n",
    "        return 1 + collatz(3 * n + 1)"
   ]
  },
  {
   "cell_type": "code",
   "execution_count": 30,
   "id": "ee81bbd8-daf6-4e29-9bb0-40e87e00c44f",
   "metadata": {},
   "outputs": [
    {
     "name": "stdout",
     "output_type": "stream",
     "text": [
      "24\n",
      "47\n"
     ]
    }
   ],
   "source": [
    "print(collatz(25))\n",
    "print(collatz(127))"
   ]
  },
  {
   "cell_type": "code",
   "execution_count": 32,
   "id": "fa3cbb13-51ce-438c-99eb-36006568eb9f",
   "metadata": {},
   "outputs": [],
   "source": [
    "def collatz_cps(n, k):\n",
    "    ## TODO during session.\n",
    "    pass"
   ]
  },
  {
   "cell_type": "code",
   "execution_count": 34,
   "id": "ccf1b780-94c6-423b-8ea6-a6abd00e5eb3",
   "metadata": {},
   "outputs": [],
   "source": [
    "collatz_cps(25, lambda x: print(x))\n",
    "collatz_cps(127, lambda z: print(f'Result is {z}'))"
   ]
  },
  {
   "cell_type": "markdown",
   "id": "03901673-29d1-4405-91b3-a5c460f89577",
   "metadata": {},
   "source": [
    "## Trampolines \n",
    "\n",
    "Trampolines are a modification of continuations. \n",
    "  - Instead of calling the continuation, return it back to the caller.\n",
    "  - What the trampoline returns is the _left over computation_ to be done when a result becomes available.\n",
    "\n"
   ]
  },
  {
   "cell_type": "code",
   "execution_count": 41,
   "id": "5b148124-3795-49e4-856a-551b85c3c3ae",
   "metadata": {},
   "outputs": [],
   "source": [
    "class More:\n",
    "    def __init__(self, lamb):\n",
    "        self.type = 'more'\n",
    "        self.lamb = lamb\n",
    "\n",
    "class Val:\n",
    "    def __init__(self, v):\n",
    "        self.type='done'\n",
    "        self.value = v"
   ]
  },
  {
   "cell_type": "code",
   "execution_count": 63,
   "id": "b8998be3-edcb-41f1-a97c-411d6d32b455",
   "metadata": {},
   "outputs": [],
   "source": [
    "def factorial_with_trampoline(n, k):\n",
    "    print(f'In Trampoline: {n}')\n",
    "    if n <= 1:\n",
    "        return More( lambda: k(1) )\n",
    "    else: \n",
    "        def remaining_computation(v):\n",
    "            print(f' Doing remaining computation: v = {v}')\n",
    "            return More( lambda: k(n*v) )\n",
    "        return More (lambda: factorial_with_trampoline(n-1, remaining_computation) )"
   ]
  },
  {
   "cell_type": "markdown",
   "id": "204be82f-3cd4-401d-9ec1-fd7833f4db71",
   "metadata": {},
   "source": [
    "__What the...?__"
   ]
  },
  {
   "cell_type": "code",
   "execution_count": 66,
   "id": "7910259a-f2ce-4014-8878-fea10500da8c",
   "metadata": {},
   "outputs": [],
   "source": [
    "def tram_factorial(n):\n",
    "    terminal = lambda v: Val(v) \n",
    "    r = factorial_with_trampoline(n, terminal)\n",
    "    while r.type != 'done':\n",
    "        assert r.type == 'more'\n",
    "        print(' In event loop') \n",
    "        l = r.lamb \n",
    "        r = l() \n",
    "    assert r.type == 'done'\n",
    "    return r.value \n"
   ]
  },
  {
   "cell_type": "code",
   "execution_count": 67,
   "id": "4aa20603-4a26-4d7f-808a-8daa072b4b4e",
   "metadata": {},
   "outputs": [
    {
     "name": "stdout",
     "output_type": "stream",
     "text": [
      "In Trampoline: 10\n",
      " In event loop\n",
      "In Trampoline: 9\n",
      " In event loop\n",
      "In Trampoline: 8\n",
      " In event loop\n",
      "In Trampoline: 7\n",
      " In event loop\n",
      "In Trampoline: 6\n",
      " In event loop\n",
      "In Trampoline: 5\n",
      " In event loop\n",
      "In Trampoline: 4\n",
      " In event loop\n",
      "In Trampoline: 3\n",
      " In event loop\n",
      "In Trampoline: 2\n",
      " In event loop\n",
      "In Trampoline: 1\n",
      " In event loop\n",
      " Doing remaining computation: v = 1\n",
      " In event loop\n",
      " Doing remaining computation: v = 2\n",
      " In event loop\n",
      " Doing remaining computation: v = 6\n",
      " In event loop\n",
      " Doing remaining computation: v = 24\n",
      " In event loop\n",
      " Doing remaining computation: v = 120\n",
      " In event loop\n",
      " Doing remaining computation: v = 720\n",
      " In event loop\n",
      " Doing remaining computation: v = 5040\n",
      " In event loop\n",
      " Doing remaining computation: v = 40320\n",
      " In event loop\n",
      " Doing remaining computation: v = 362880\n",
      " In event loop\n"
     ]
    },
    {
     "data": {
      "text/plain": [
       "3628800"
      ]
     },
     "execution_count": 67,
     "metadata": {},
     "output_type": "execute_result"
    }
   ],
   "source": [
    "tram_factorial(10)"
   ]
  },
  {
   "cell_type": "markdown",
   "id": "97ace3f8-c546-4208-aaa0-b01e14195092",
   "metadata": {},
   "source": [
    "## What are trampolines?\n",
    "\n",
    "- If you call a trampoline, they simply do _simple_ computation and send you back whatever remains to compute.\n",
    "- In a trampolined code, there is simply a main \"event\" loop that dispatches calls to worker threads.\n",
    "  \n",
    "## How are they used?\n",
    "\n",
    "- To implement exception handling.\n",
    "- To implement multiple threads in a single threaded environment.\n",
    "- Asynchronous calls/algebraic effects.\n",
    "- **Event-Driven Programming**"
   ]
  },
  {
   "cell_type": "markdown",
   "id": "a23f2bc6-26fe-41b5-bd69-e8b8e4c68415",
   "metadata": {},
   "source": [
    "## Reactive Programming Architecture"
   ]
  },
  {
   "cell_type": "code",
   "execution_count": null,
   "id": "7ac652e9-a732-4b93-8a36-8421501bba76",
   "metadata": {},
   "outputs": [],
   "source": []
  }
 ],
 "metadata": {
  "kernelspec": {
   "display_name": "Python 3 (ipykernel)",
   "language": "python",
   "name": "python3"
  },
  "language_info": {
   "codemirror_mode": {
    "name": "ipython",
    "version": 3
   },
   "file_extension": ".py",
   "mimetype": "text/x-python",
   "name": "python",
   "nbconvert_exporter": "python",
   "pygments_lexer": "ipython3",
   "version": "3.13.2"
  }
 },
 "nbformat": 4,
 "nbformat_minor": 5
}
